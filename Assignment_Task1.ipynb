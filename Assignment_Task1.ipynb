{
 "cells": [
  {
   "cell_type": "markdown",
   "id": "8c72f4fe",
   "metadata": {},
   "source": [
    "1. Consider a large dataset (say, a time series) A. Also, consider a smaller dataset B.How do you ensure whether sets A and B identify the same variable? Illustrate it with a Python script."
   ]
  },
  {
   "cell_type": "markdown",
   "id": "8ab5ad40",
   "metadata": {},
   "source": [
    "#ANS:\n",
    "To check whether two datasets A and B identify the same variable, we need to perform some exploratory data analysis. One common method is to plot the data and visually inspect whether they have similar patterns. We can also perform statistical tests to check whether the datasets have similar distributions or correlation structures."
   ]
  },
  {
   "cell_type": "markdown",
   "id": "e9726d6e",
   "metadata": {},
   "source": [
    "Here is Python script that demonstrates how to compare two datasets A and B using visualization and statistical tests:"
   ]
  },
  {
   "cell_type": "code",
   "execution_count": 2,
   "id": "c965f2ab",
   "metadata": {},
   "outputs": [
    {
     "data": {
      "image/png": "[encoded data removed]",
      "text/plain": [
       "<Figure size 432x288 with 1 Axes>"
      ]
     },
     "metadata": {
      "needs_background": "light"
     },
     "output_type": "display_data"
    },
    {
     "name": "stdout",
     "output_type": "stream",
     "text": [
      "t-test statistic: -10.10168551214843\n",
      "p-value: 5.296927489789408e-23\n"
     ]
    }
   ],
   "source": [
    "import numpy as np\n",
    "import pandas as pd\n",
    "import matplotlib.pyplot as plt\n",
    "from scipy.stats import pearsonr, ttest_ind\n",
    "\n",
    "# Generate example datasets A and B\n",
    "A = np.random.normal(loc=0, scale=1, size=1000)\n",
    "B = np.random.normal(loc=1, scale=1, size=100)\n",
    "\n",
    "# Plot the datasets\n",
    "plt.hist(A, bins=30, alpha=0.5, label='A')\n",
    "plt.hist(B, bins=30, alpha=0.5, label='B')\n",
    "plt.legend()\n",
    "plt.show()\n",
    "\n",
    "# Compute the Pearson correlation coefficient between A and B\n",
    "#corr, _ = pearsonr(A, B)\n",
    "#print('Pearson correlation:', corr)\n",
    "\n",
    "# Perform a t-test to compare the means of A and B\n",
    "t, p = ttest_ind(A, B)\n",
    "print('t-test statistic:', t)\n",
    "print('p-value:', p)\n"
   ]
  },
  {
   "cell_type": "markdown",
   "id": "1f78ea30",
   "metadata": {},
   "source": [
    "Here,we can take example datasets A and B using numpy. \n",
    "We then plot the histograms of A and B using Matplotlib to visualize their distributions.\n",
    "Next, we can find the Pearson correlation coefficient between A and B using SciPy pearsonr function, \n",
    "which measures the linear correlation between two variables. A high correlation coefficient indicates that the datasets have similar patterns.\n",
    "we also find a t-test to compare the means of A and B using SciPy ttest_ind function. \n",
    "If the p-value of the t-test is low (less than 0.05), we can reject the null hypothesis that the means of A and B are equal and we can analyse that the datasets represent different variables."
   ]
  },
  {
   "cell_type": "code",
   "execution_count": null,
   "id": "34926115",
   "metadata": {},
   "outputs": [],
   "source": []
  }
 ],
 "metadata": {
  "kernelspec": {
   "display_name": "Python 3",
   "language": "python",
   "name": "python3"
  },
  "language_info": {
   "codemirror_mode": {
    "name": "ipython",
    "version": 3
   },
   "file_extension": ".py",
   "mimetype": "text/x-python",
   "name": "python",
   "nbconvert_exporter": "python",
   "pygments_lexer": "ipython3",
   "version": "3.8.8"
  }
 },
 "nbformat": 4,
 "nbformat_minor": 5
}
