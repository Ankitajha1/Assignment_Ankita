{
 "cells": [
  {
   "cell_type": "markdown",
   "id": "9106def6",
   "metadata": {},
   "source": [
    "# Technique1(Adding fog)"
   ]
  },
  {
   "cell_type": "code",
   "execution_count": 19,
   "id": "4898ad93",
   "metadata": {},
   "outputs": [
    {
     "name": "stdout",
     "output_type": "stream",
     "text": [
      "1\n",
      "2\n",
      "3\n",
      "4\n",
      "5\n",
      "6\n",
      "7\n",
      "8\n",
      "9\n",
      "10\n",
      "11\n",
      "12\n",
      "13\n",
      "14\n",
      "15\n",
      "16\n",
      "17\n",
      "18\n",
      "19\n",
      "20\n",
      "21\n",
      "22\n",
      "23\n",
      "24\n"
     ]
    }
   ],
   "source": [
    "import cv2\n",
    "import os\n",
    "import Automold as am\n",
    "def addfog(path):\n",
    "    i=0\n",
    "    for file in os.listdir(path):\n",
    "        i=i+1\n",
    "        img = cv2.imread(path+file)\n",
    "        fog = am.add_fog(img ,fog_coeff= 0.4)\n",
    "        dst = 'D:/MASTERFULL/UTTAR PRADESH/1/'+file # alter this as required\n",
    "        ret = cv2.imwrite(dst,fog)\n",
    "        print(i)\n",
    "path = r'D:/MASTERFULL/UTTAR PRADESH/UP_original/' # alter this as required\n",
    "addfog(path)"
   ]
  },
  {
   "cell_type": "markdown",
   "id": "0926f445",
   "metadata": {},
   "source": [
    "# Technique2(Adding rain)"
   ]
  },
  {
   "cell_type": "code",
   "execution_count": 20,
   "id": "861d04cf",
   "metadata": {},
   "outputs": [
    {
     "name": "stdout",
     "output_type": "stream",
     "text": [
      "1\n",
      "2\n",
      "3\n",
      "4\n",
      "5\n",
      "6\n",
      "7\n",
      "8\n",
      "9\n",
      "10\n",
      "11\n",
      "12\n",
      "13\n",
      "14\n",
      "15\n",
      "16\n",
      "17\n",
      "18\n",
      "19\n",
      "20\n",
      "21\n",
      "22\n",
      "23\n",
      "24\n"
     ]
    }
   ],
   "source": [
    "def addrain(path):\n",
    "    i=0\n",
    "    for file in os.listdir(path):\n",
    "        i=i+1\n",
    "        img = cv2.imread(path+file)\n",
    "        rain = am.add_rain(img ,rain_type= 'drizzle' )\n",
    "        dst = 'D:/MASTERFULL/UTTAR PRADESH/2/'+file # alter this as required\n",
    "        ret = cv2.imwrite(dst,rain)\n",
    "        print(i)\n",
    "path =  r'D:/MASTERFULL/UTTAR PRADESH/UP_original/' # alter this as required\n",
    "addrain(path)"
   ]
  },
  {
   "cell_type": "markdown",
   "id": "da2fe395",
   "metadata": {},
   "source": [
    "# Technique3(Gaussian blur)"
   ]
  },
  {
   "cell_type": "code",
   "execution_count": 21,
   "id": "c48e093d",
   "metadata": {},
   "outputs": [
    {
     "name": "stdout",
     "output_type": "stream",
     "text": [
      "1\n",
      "2\n",
      "3\n",
      "4\n",
      "5\n",
      "6\n",
      "7\n",
      "8\n",
      "9\n",
      "10\n",
      "11\n",
      "12\n",
      "13\n",
      "14\n",
      "15\n",
      "16\n",
      "17\n",
      "18\n",
      "19\n",
      "20\n",
      "21\n",
      "22\n",
      "23\n",
      "24\n"
     ]
    }
   ],
   "source": [
    "import cv2\n",
    "import os\n",
    "def blur(path):\n",
    "    i=0\n",
    "    for file in os.listdir(path):\n",
    "        i=i+1\n",
    "        img = cv2.imread(path+file)\n",
    "        Gaussian = cv2.GaussianBlur(img, (7, 7), 0)\n",
    "        dst = 'D:/MASTERFULL/UTTAR PRADESH/3/'+file # alter this as required\n",
    "        ret = cv2.imwrite(dst,Gaussian)\n",
    "        print(i)\n",
    "path = r'D:/MASTERFULL/UTTAR PRADESH/UP_original/' # alter this as required\n",
    "blur(path)"
   ]
  },
  {
   "cell_type": "markdown",
   "id": "128b3080",
   "metadata": {},
   "source": [
    "# Technique4(Gray scale)"
   ]
  },
  {
   "cell_type": "code",
   "execution_count": 22,
   "id": "29af16a0",
   "metadata": {},
   "outputs": [
    {
     "name": "stdout",
     "output_type": "stream",
     "text": [
      "1\n",
      "2\n",
      "3\n",
      "4\n",
      "5\n",
      "6\n",
      "7\n",
      "8\n",
      "9\n",
      "10\n",
      "11\n",
      "12\n",
      "13\n",
      "14\n",
      "15\n",
      "16\n",
      "17\n",
      "18\n",
      "19\n",
      "20\n",
      "21\n",
      "22\n",
      "23\n",
      "24\n"
     ]
    }
   ],
   "source": [
    "import cv2\n",
    "import os\n",
    "def gray(path):\n",
    "    i=0\n",
    "    for file in os.listdir(path):\n",
    "        i=i+1\n",
    "        img = cv2.imread(path+file)\n",
    "        gray = cv2.cvtColor(img,cv2.COLOR_BGR2GRAY)\n",
    "        dst = 'D:/MASTERFULL/UTTAR PRADESH/4/'+file # alter this as required\n",
    "        ret = cv2.imwrite(dst,gray)\n",
    "        print(i)\n",
    "path =r'D:/MASTERFULL/UTTAR PRADESH/UP_original/' # alter this as required\n",
    "gray(path)"
   ]
  },
  {
   "cell_type": "code",
   "execution_count": null,
   "id": "20f23069",
   "metadata": {},
   "outputs": [],
   "source": []
  }
 ],
 "metadata": {
  "kernelspec": {
   "display_name": "Python 3",
   "language": "python",
   "name": "python3"
  },
  "language_info": {
   "codemirror_mode": {
    "name": "ipython",
    "version": 3
   },
   "file_extension": ".py",
   "mimetype": "text/x-python",
   "name": "python",
   "nbconvert_exporter": "python",
   "pygments_lexer": "ipython3",
   "version": "3.8.8"
  }
 },
 "nbformat": 4,
 "nbformat_minor": 5
}
