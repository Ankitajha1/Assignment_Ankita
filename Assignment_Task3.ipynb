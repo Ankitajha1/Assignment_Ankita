{
 "cells": [
  {
   "cell_type": "markdown",
   "id": "30014b07",
   "metadata": {},
   "source": [
    "3. Download an image dataset of your choice for binary class classification. Perform the data augmentation techniques like flipping, rotation and transformation. Apply at least two object classification techniques both on the augmented as well as on the original dataset. Display the performance of the Algorithms. Prepare a comparison chart."
   ]
  },
  {
   "cell_type": "markdown",
   "id": "776d0e95",
   "metadata": {},
   "source": [
    "#ANS : I have taken the image dataset of binary class (cats and dogs). The datset has 200 images where 100 images for each class."
   ]
  },
  {
   "cell_type": "code",
   "execution_count": 1,
   "id": "1bfea6c4",
   "metadata": {},
   "outputs": [],
   "source": [
    "import os\n",
    "import numpy as np\n",
    "import cv2\n",
    "import matplotlib.pyplot as plt"
   ]
  },
  {
   "cell_type": "code",
   "execution_count": 10,
   "id": "d5e3fed0",
   "metadata": {},
   "outputs": [],
   "source": [
    "dir= r'D:/Task3/Image Classification dataset'"
   ]
  },
  {
   "cell_type": "code",
   "execution_count": 11,
   "id": "400d3e0a",
   "metadata": {},
   "outputs": [],
   "source": [
    "categories= ['cats', 'dogs']"
   ]
  },
  {
   "cell_type": "markdown",
   "id": "bb97c49e",
   "metadata": {},
   "source": [
    "This is the binary classification. Categories are cats and dogs where 'cats'is labelled as \"0\" and 'dogs'is labelled as '1'"
   ]
  },
  {
   "cell_type": "code",
   "execution_count": 12,
   "id": "32e185a3",
   "metadata": {},
   "outputs": [],
   "source": [
    "data= []"
   ]
  },
  {
   "cell_type": "code",
   "execution_count": 13,
   "id": "6506f443",
   "metadata": {},
   "outputs": [],
   "source": [
    "for category in categories:\n",
    "    path=os.path.join(dir, category)\n",
    "    label= categories.index(category)\n",
    "    \n",
    "    for img in os.listdir(path):\n",
    "        imgpath= os.path.join(path, img)\n",
    "        pet_img= cv2.imread(imgpath, 0)\n",
    "        #cv2.imshow('image', pet_img)\n",
    "        pet_img= cv2.resize(pet_img, (50,50))    \n",
    "        image= np.array(pet_img).flatten()\n",
    "        data.append([image, label])"
   ]
  },
  {
   "cell_type": "code",
   "execution_count": 14,
   "id": "4a10daad",
   "metadata": {},
   "outputs": [
    {
     "name": "stdout",
     "output_type": "stream",
     "text": [
      "400\n"
     ]
    }
   ],
   "source": [
    "print(len(data))"
   ]
  },
  {
   "cell_type": "code",
   "execution_count": 15,
   "id": "97eee929",
   "metadata": {},
   "outputs": [],
   "source": [
    "import random\n",
    "import pandas as pd\n",
    "random.shuffle(data)\n",
    "features= []\n",
    "labels= []"
   ]
  },
  {
   "cell_type": "code",
   "execution_count": 16,
   "id": "fdacb8bd",
   "metadata": {},
   "outputs": [],
   "source": [
    "for feature, label in data:\n",
    "    features.append(feature)\n",
    "    labels.append(label)"
   ]
  },
  {
   "cell_type": "code",
   "execution_count": 17,
   "id": "1ec4fbd0",
   "metadata": {},
   "outputs": [],
   "source": [
    "from sklearn.model_selection import train_test_split\n",
    "xtrain, xtest, ytrain, ytest= train_test_split(features, labels, test_size= 0.25)"
   ]
  },
  {
   "cell_type": "code",
   "execution_count": 58,
   "id": "0e1b1b25",
   "metadata": {},
   "outputs": [],
   "source": [
    "#ytest"
   ]
  },
  {
   "cell_type": "markdown",
   "id": "afeb88a0",
   "metadata": {},
   "source": [
    "# SVM CLASSIFICATION ALGORITHM"
   ]
  },
  {
   "cell_type": "code",
   "execution_count": 18,
   "id": "72eb3480",
   "metadata": {},
   "outputs": [
    {
     "data": {
      "text/plain": [
       "SVC(C=1, gamma='auto', kernel='poly')"
      ]
     },
     "execution_count": 18,
     "metadata": {},
     "output_type": "execute_result"
    }
   ],
   "source": [
    "from sklearn.svm import SVC\n",
    "model= SVC(C=1, kernel='poly', gamma= 'auto')\n",
    "model.fit(xtrain, ytrain)"
   ]
  },
  {
   "cell_type": "code",
   "execution_count": 19,
   "id": "662ab3ff",
   "metadata": {},
   "outputs": [],
   "source": [
    "prediction= model.predict(xtest)"
   ]
  },
  {
   "cell_type": "code",
   "execution_count": 20,
   "id": "595fd54d",
   "metadata": {},
   "outputs": [],
   "source": [
    "accuracy= model.score(xtest, ytest)"
   ]
  },
  {
   "cell_type": "code",
   "execution_count": 21,
   "id": "f65ef821",
   "metadata": {},
   "outputs": [
    {
     "name": "stdout",
     "output_type": "stream",
     "text": [
      "Accuracy: 0.51\n",
      "Prediction is: cats\n"
     ]
    }
   ],
   "source": [
    "print('Accuracy:', accuracy)\n",
    "print('Prediction is:', categories[prediction[1]])"
   ]
  },
  {
   "cell_type": "code",
   "execution_count": 22,
   "id": "a502f29a",
   "metadata": {},
   "outputs": [
    {
     "data": {
      "text/html": [
       "<div>\n",
       "<style scoped>\n",
       "    .dataframe tbody tr th:only-of-type {\n",
       "        vertical-align: middle;\n",
       "    }\n",
       "\n",
       "    .dataframe tbody tr th {\n",
       "        vertical-align: top;\n",
       "    }\n",
       "\n",
       "    .dataframe thead th {\n",
       "        text-align: right;\n",
       "    }\n",
       "</style>\n",
       "<table border=\"1\" class=\"dataframe\">\n",
       "  <thead>\n",
       "    <tr style=\"text-align: right;\">\n",
       "      <th></th>\n",
       "      <th>Method</th>\n",
       "      <th>accuracy</th>\n",
       "    </tr>\n",
       "  </thead>\n",
       "  <tbody>\n",
       "    <tr>\n",
       "      <th>0</th>\n",
       "      <td>SVM</td>\n",
       "      <td>0.51</td>\n",
       "    </tr>\n",
       "  </tbody>\n",
       "</table>\n",
       "</div>"
      ],
      "text/plain": [
       "  Method  accuracy\n",
       "0    SVM      0.51"
      ]
     },
     "execution_count": 22,
     "metadata": {},
     "output_type": "execute_result"
    }
   ],
   "source": [
    "resultsDf = pd.DataFrame({'Method':['SVM'],'accuracy':accuracy})\n",
    "resultsDf = resultsDf[['Method','accuracy']]\n",
    "resultsDf"
   ]
  },
  {
   "cell_type": "markdown",
   "id": "388e7e4b",
   "metadata": {},
   "source": [
    "# RANDOM FOREST CLASSIFICATION ALGORITHM"
   ]
  },
  {
   "cell_type": "code",
   "execution_count": 23,
   "id": "a0bb1d2d",
   "metadata": {},
   "outputs": [],
   "source": [
    "from sklearn.ensemble import RandomForestClassifier"
   ]
  },
  {
   "cell_type": "code",
   "execution_count": 24,
   "id": "9f1e9a65",
   "metadata": {},
   "outputs": [
    {
     "data": {
      "text/plain": [
       "RandomForestClassifier(max_features=12, n_estimators=50, random_state=1)"
      ]
     },
     "execution_count": 24,
     "metadata": {},
     "output_type": "execute_result"
    }
   ],
   "source": [
    "rfmodel = RandomForestClassifier(n_estimators = 50, random_state = 1, max_features = 12)\n",
    "rfmodel.fit(xtrain, ytrain)"
   ]
  },
  {
   "cell_type": "code",
   "execution_count": 46,
   "id": "5f7e7e3f",
   "metadata": {},
   "outputs": [],
   "source": [
    "#ytest"
   ]
  },
  {
   "cell_type": "code",
   "execution_count": 26,
   "id": "13aa8272",
   "metadata": {},
   "outputs": [],
   "source": [
    "prediction1 = rfmodel.predict(xtest)\n",
    "accuracy1 = rfmodel.score(xtest,ytest)"
   ]
  },
  {
   "cell_type": "code",
   "execution_count": 27,
   "id": "22df12bc",
   "metadata": {},
   "outputs": [
    {
     "name": "stdout",
     "output_type": "stream",
     "text": [
      "Accuracy: 0.52\n",
      "Prediction is: cats\n"
     ]
    }
   ],
   "source": [
    "print('Accuracy:', accuracy1)\n",
    "print('Prediction is:', categories[prediction1[1]])"
   ]
  },
  {
   "cell_type": "code",
   "execution_count": 28,
   "id": "9122b286",
   "metadata": {},
   "outputs": [
    {
     "data": {
      "text/html": [
       "<div>\n",
       "<style scoped>\n",
       "    .dataframe tbody tr th:only-of-type {\n",
       "        vertical-align: middle;\n",
       "    }\n",
       "\n",
       "    .dataframe tbody tr th {\n",
       "        vertical-align: top;\n",
       "    }\n",
       "\n",
       "    .dataframe thead th {\n",
       "        text-align: right;\n",
       "    }\n",
       "</style>\n",
       "<table border=\"1\" class=\"dataframe\">\n",
       "  <thead>\n",
       "    <tr style=\"text-align: right;\">\n",
       "      <th></th>\n",
       "      <th>Method</th>\n",
       "      <th>accuracy</th>\n",
       "    </tr>\n",
       "  </thead>\n",
       "  <tbody>\n",
       "    <tr>\n",
       "      <th>0</th>\n",
       "      <td>SVM</td>\n",
       "      <td>0.51</td>\n",
       "    </tr>\n",
       "    <tr>\n",
       "      <th>0</th>\n",
       "      <td>Random Forest</td>\n",
       "      <td>0.52</td>\n",
       "    </tr>\n",
       "  </tbody>\n",
       "</table>\n",
       "</div>"
      ],
      "text/plain": [
       "          Method  accuracy\n",
       "0            SVM      0.51\n",
       "0  Random Forest      0.52"
      ]
     },
     "execution_count": 28,
     "metadata": {},
     "output_type": "execute_result"
    }
   ],
   "source": [
    "tempResultsDf = pd.DataFrame({'Method' :['Random Forest'],'accuracy':accuracy1})\n",
    "resultsDf = pd.concat([resultsDf, tempResultsDf])\n",
    "resultsDf = resultsDf[['Method','accuracy']]\n",
    "resultsDf"
   ]
  },
  {
   "cell_type": "markdown",
   "id": "4e9ab498",
   "metadata": {},
   "source": [
    "# Here, I am using the (Flipping) augmentation technique."
   ]
  },
  {
   "cell_type": "code",
   "execution_count": 94,
   "id": "d1db67a2",
   "metadata": {},
   "outputs": [
    {
     "name": "stdout",
     "output_type": "stream",
     "text": [
      "1\n",
      "2\n",
      "3\n",
      "4\n",
      "5\n",
      "6\n",
      "7\n",
      "8\n",
      "9\n",
      "10\n",
      "11\n",
      "12\n",
      "13\n",
      "14\n",
      "15\n",
      "16\n",
      "17\n",
      "18\n",
      "19\n",
      "20\n",
      "21\n",
      "22\n",
      "23\n",
      "24\n",
      "25\n",
      "26\n",
      "27\n",
      "28\n",
      "29\n",
      "30\n",
      "31\n",
      "32\n",
      "33\n",
      "34\n",
      "35\n",
      "36\n",
      "37\n",
      "38\n",
      "39\n",
      "40\n",
      "41\n",
      "42\n",
      "43\n",
      "44\n",
      "45\n",
      "46\n",
      "47\n",
      "48\n",
      "49\n",
      "50\n",
      "51\n",
      "52\n",
      "53\n",
      "54\n",
      "55\n",
      "56\n",
      "57\n",
      "58\n",
      "59\n",
      "60\n",
      "61\n",
      "62\n",
      "63\n",
      "64\n",
      "65\n",
      "66\n",
      "67\n",
      "68\n",
      "69\n",
      "70\n",
      "71\n",
      "72\n",
      "73\n",
      "74\n",
      "75\n",
      "76\n",
      "77\n",
      "78\n",
      "79\n",
      "80\n",
      "81\n",
      "82\n",
      "83\n",
      "84\n",
      "85\n",
      "86\n",
      "87\n",
      "88\n",
      "89\n",
      "90\n",
      "91\n",
      "92\n",
      "93\n",
      "94\n",
      "95\n",
      "96\n",
      "97\n",
      "98\n",
      "99\n",
      "100\n",
      "101\n",
      "102\n",
      "103\n",
      "104\n",
      "105\n",
      "106\n",
      "107\n",
      "108\n",
      "109\n",
      "110\n",
      "111\n",
      "112\n",
      "113\n",
      "114\n",
      "115\n",
      "116\n",
      "117\n",
      "118\n",
      "119\n",
      "120\n",
      "121\n",
      "122\n",
      "123\n",
      "124\n",
      "125\n",
      "126\n",
      "127\n",
      "128\n",
      "129\n",
      "130\n",
      "131\n",
      "132\n",
      "133\n",
      "134\n",
      "135\n",
      "136\n",
      "137\n",
      "138\n",
      "139\n",
      "140\n",
      "141\n",
      "142\n",
      "143\n",
      "144\n",
      "145\n",
      "146\n",
      "147\n",
      "148\n",
      "149\n",
      "150\n",
      "151\n",
      "152\n",
      "153\n",
      "154\n",
      "155\n",
      "156\n",
      "157\n",
      "158\n",
      "159\n",
      "160\n",
      "161\n",
      "162\n",
      "163\n",
      "164\n",
      "165\n",
      "166\n",
      "167\n",
      "168\n",
      "169\n",
      "170\n",
      "171\n",
      "172\n",
      "173\n",
      "174\n",
      "175\n",
      "176\n",
      "177\n",
      "178\n",
      "179\n",
      "180\n",
      "181\n",
      "182\n",
      "183\n",
      "184\n",
      "185\n",
      "186\n",
      "187\n",
      "188\n",
      "189\n",
      "190\n",
      "191\n",
      "192\n",
      "193\n",
      "194\n",
      "195\n",
      "196\n",
      "197\n",
      "198\n",
      "199\n",
      "200\n"
     ]
    }
   ],
   "source": [
    "import cv2\n",
    "import os\n",
    "\n",
    "def aug(path):\n",
    "    i=0\n",
    "    for file in os.listdir(path):\n",
    "        i=i+1\n",
    "        img = cv2.imread(path+file)\n",
    "        flip = cv2.flip(img,3)\n",
    "        dst = 'D:/Image Classification_aug/cats/'+file # alter this as required\n",
    "        ret = cv2.imwrite(dst,flip)\n",
    "        print(i)\n",
    "\n",
    "\n",
    "\n",
    "path = r'D:/Image Classification/cats/' # alter this as required\n",
    "aug(path)"
   ]
  },
  {
   "cell_type": "code",
   "execution_count": 97,
   "id": "c61a3938",
   "metadata": {},
   "outputs": [
    {
     "name": "stdout",
     "output_type": "stream",
     "text": [
      "1\n",
      "2\n",
      "3\n",
      "4\n",
      "5\n",
      "6\n",
      "7\n",
      "8\n",
      "9\n",
      "10\n",
      "11\n",
      "12\n",
      "13\n",
      "14\n",
      "15\n",
      "16\n",
      "17\n",
      "18\n",
      "19\n",
      "20\n",
      "21\n",
      "22\n",
      "23\n",
      "24\n",
      "25\n",
      "26\n",
      "27\n",
      "28\n",
      "29\n",
      "30\n",
      "31\n",
      "32\n",
      "33\n",
      "34\n",
      "35\n",
      "36\n",
      "37\n",
      "38\n",
      "39\n",
      "40\n",
      "41\n",
      "42\n",
      "43\n",
      "44\n",
      "45\n",
      "46\n",
      "47\n",
      "48\n",
      "49\n",
      "50\n",
      "51\n",
      "52\n",
      "53\n",
      "54\n",
      "55\n",
      "56\n",
      "57\n",
      "58\n",
      "59\n",
      "60\n",
      "61\n",
      "62\n",
      "63\n",
      "64\n",
      "65\n",
      "66\n",
      "67\n",
      "68\n",
      "69\n",
      "70\n",
      "71\n",
      "72\n",
      "73\n",
      "74\n",
      "75\n",
      "76\n",
      "77\n",
      "78\n",
      "79\n",
      "80\n",
      "81\n",
      "82\n",
      "83\n",
      "84\n",
      "85\n",
      "86\n",
      "87\n",
      "88\n",
      "89\n",
      "90\n",
      "91\n",
      "92\n",
      "93\n",
      "94\n",
      "95\n",
      "96\n",
      "97\n",
      "98\n",
      "99\n",
      "100\n",
      "101\n",
      "102\n",
      "103\n",
      "104\n",
      "105\n",
      "106\n",
      "107\n",
      "108\n",
      "109\n",
      "110\n",
      "111\n",
      "112\n",
      "113\n",
      "114\n",
      "115\n",
      "116\n",
      "117\n",
      "118\n",
      "119\n",
      "120\n",
      "121\n",
      "122\n",
      "123\n",
      "124\n",
      "125\n",
      "126\n",
      "127\n",
      "128\n",
      "129\n",
      "130\n",
      "131\n",
      "132\n",
      "133\n",
      "134\n",
      "135\n",
      "136\n",
      "137\n",
      "138\n",
      "139\n",
      "140\n",
      "141\n",
      "142\n",
      "143\n",
      "144\n",
      "145\n",
      "146\n",
      "147\n",
      "148\n",
      "149\n",
      "150\n",
      "151\n",
      "152\n",
      "153\n",
      "154\n",
      "155\n",
      "156\n",
      "157\n",
      "158\n",
      "159\n",
      "160\n",
      "161\n",
      "162\n",
      "163\n",
      "164\n",
      "165\n",
      "166\n",
      "167\n",
      "168\n",
      "169\n",
      "170\n",
      "171\n",
      "172\n",
      "173\n",
      "174\n",
      "175\n",
      "176\n",
      "177\n",
      "178\n",
      "179\n",
      "180\n",
      "181\n",
      "182\n",
      "183\n",
      "184\n",
      "185\n",
      "186\n",
      "187\n",
      "188\n",
      "189\n",
      "190\n",
      "191\n",
      "192\n",
      "193\n",
      "194\n",
      "195\n",
      "196\n",
      "197\n",
      "198\n",
      "199\n",
      "200\n"
     ]
    }
   ],
   "source": [
    "import cv2\n",
    "import os\n",
    "\n",
    "def aug(path):\n",
    "    i=0\n",
    "    for file in os.listdir(path):\n",
    "        i=i+1\n",
    "        img = cv2.imread(path+file)\n",
    "        flip = cv2.flip(img,3)\n",
    "        dst = 'D:/Image Classification_aug/dogs/'+file # alter this as required\n",
    "        ret = cv2.imwrite(dst,flip)\n",
    "        print(i)\n",
    "\n",
    "\n",
    "\n",
    "path = r'D:/Image Classification/dogs/' # alter this as required\n",
    "aug(path)"
   ]
  },
  {
   "cell_type": "markdown",
   "id": "6352806f",
   "metadata": {},
   "source": [
    "# Image Augmentation (\"Rotation\")"
   ]
  },
  {
   "cell_type": "code",
   "execution_count": 45,
   "id": "b908d598",
   "metadata": {},
   "outputs": [
    {
     "ename": "AttributeError",
     "evalue": "'NoneType' object has no attribute 'shape'",
     "output_type": "error",
     "traceback": [
      "\u001b[1;31m---------------------------------------------------------------------------\u001b[0m",
      "\u001b[1;31mAttributeError\u001b[0m                            Traceback (most recent call last)",
      "\u001b[1;32m<ipython-input-45-3af2134e5f89>\u001b[0m in \u001b[0;36m<module>\u001b[1;34m\u001b[0m\n\u001b[0;32m     17\u001b[0m \u001b[1;33m\u001b[0m\u001b[0m\n\u001b[0;32m     18\u001b[0m \u001b[1;31m#path = r'D:/Image Classification/' # alter this as required\u001b[0m\u001b[1;33m\u001b[0m\u001b[1;33m\u001b[0m\u001b[1;33m\u001b[0m\u001b[0m\n\u001b[1;32m---> 19\u001b[1;33m \u001b[0mRotation\u001b[0m\u001b[1;33m(\u001b[0m\u001b[0mpath\u001b[0m\u001b[1;33m)\u001b[0m\u001b[1;33m\u001b[0m\u001b[1;33m\u001b[0m\u001b[0m\n\u001b[0m",
      "\u001b[1;32m<ipython-input-45-3af2134e5f89>\u001b[0m in \u001b[0;36mRotation\u001b[1;34m(path)\u001b[0m\n\u001b[0;32m      7\u001b[0m         \u001b[0mi\u001b[0m\u001b[1;33m=\u001b[0m\u001b[0mi\u001b[0m\u001b[1;33m+\u001b[0m\u001b[1;36m1\u001b[0m\u001b[1;33m\u001b[0m\u001b[1;33m\u001b[0m\u001b[0m\n\u001b[0;32m      8\u001b[0m         \u001b[0mimg\u001b[0m \u001b[1;33m=\u001b[0m \u001b[0mcv2\u001b[0m\u001b[1;33m.\u001b[0m\u001b[0mimread\u001b[0m\u001b[1;33m(\u001b[0m\u001b[0mpath\u001b[0m\u001b[1;33m+\u001b[0m\u001b[0mfile\u001b[0m\u001b[1;33m)\u001b[0m\u001b[1;33m\u001b[0m\u001b[1;33m\u001b[0m\u001b[0m\n\u001b[1;32m----> 9\u001b[1;33m         \u001b[0mheight\u001b[0m\u001b[1;33m,\u001b[0m \u001b[0mwidth\u001b[0m \u001b[1;33m=\u001b[0m \u001b[0mimg\u001b[0m\u001b[1;33m.\u001b[0m\u001b[0mshape\u001b[0m\u001b[1;33m[\u001b[0m\u001b[1;33m:\u001b[0m\u001b[1;36m2\u001b[0m\u001b[1;33m]\u001b[0m\u001b[1;33m\u001b[0m\u001b[1;33m\u001b[0m\u001b[0m\n\u001b[0m\u001b[0;32m     10\u001b[0m         \u001b[0mrotation_matrix\u001b[0m \u001b[1;33m=\u001b[0m \u001b[0mcv2\u001b[0m\u001b[1;33m.\u001b[0m\u001b[0mgetRotationMatrix2D\u001b[0m\u001b[1;33m(\u001b[0m\u001b[1;33m(\u001b[0m\u001b[0mwidth\u001b[0m\u001b[1;33m/\u001b[0m\u001b[1;36m2\u001b[0m\u001b[1;33m,\u001b[0m\u001b[0mheight\u001b[0m\u001b[1;33m/\u001b[0m\u001b[1;36m2\u001b[0m\u001b[1;33m)\u001b[0m\u001b[1;33m,\u001b[0m\u001b[1;36m45\u001b[0m\u001b[1;33m,\u001b[0m\u001b[1;36m.5\u001b[0m\u001b[1;33m)\u001b[0m\u001b[1;33m\u001b[0m\u001b[1;33m\u001b[0m\u001b[0m\n\u001b[0;32m     11\u001b[0m         \u001b[0mrotated_image\u001b[0m \u001b[1;33m=\u001b[0m \u001b[0mcv2\u001b[0m\u001b[1;33m.\u001b[0m\u001b[0mwarpAffine\u001b[0m\u001b[1;33m(\u001b[0m\u001b[0mimg\u001b[0m\u001b[1;33m,\u001b[0m \u001b[0mrotation_matrix\u001b[0m\u001b[1;33m,\u001b[0m\u001b[1;33m(\u001b[0m\u001b[0mwidth\u001b[0m\u001b[1;33m,\u001b[0m\u001b[0mheight\u001b[0m\u001b[1;33m)\u001b[0m\u001b[1;33m)\u001b[0m\u001b[1;33m\u001b[0m\u001b[1;33m\u001b[0m\u001b[0m\n",
      "\u001b[1;31mAttributeError\u001b[0m: 'NoneType' object has no attribute 'shape'"
     ]
    }
   ],
   "source": [
    "import cv2\n",
    "import os\n",
    "\n",
    "def Rotation(path):\n",
    "    i=0\n",
    "    for file in os.listdir(path):\n",
    "        i=i+1\n",
    "        img = cv2.imread(path+file)\n",
    "        height, width = img.shape[:2]\n",
    "        rotation_matrix = cv2.getRotationMatrix2D((width/2,height/2),45,.5)\n",
    "        rotated_image = cv2.warpAffine(img, rotation_matrix,(width,height))\n",
    "        #dst = 'D:/Image Classification_aug/'+file # alter this as required\n",
    "        ret = cv2.imwrite(dst,rotated_image)\n",
    "        print(i)\n",
    "\n",
    "\n",
    "\n",
    "#path = r'D:/Image Classification/' # alter this as required\n",
    "Rotation(path)"
   ]
  },
  {
   "cell_type": "markdown",
   "id": "c7888a08",
   "metadata": {},
   "source": [
    "# Now i will train our model with (flipping)augmented technique data."
   ]
  },
  {
   "cell_type": "code",
   "execution_count": 29,
   "id": "8ed1c9ff",
   "metadata": {},
   "outputs": [],
   "source": [
    "dir = r'D:/Task3/Image Classification_flip_augdataset'\n",
    "categories= ['cats', 'dogs']\n",
    "df = []"
   ]
  },
  {
   "cell_type": "code",
   "execution_count": 30,
   "id": "b52e2eb7",
   "metadata": {},
   "outputs": [],
   "source": [
    "for category in categories:\n",
    "    path=os.path.join(dir, category)\n",
    "    label= categories.index(category)\n",
    "    \n",
    "    for img in os.listdir(path):\n",
    "        imgpath= os.path.join(path, img)\n",
    "        pet_img= cv2.imread(imgpath, 0)\n",
    "        #cv2.imshow('image', pet_img)\n",
    "        pet_img= cv2.resize(pet_img, (50,50))    \n",
    "        image= np.array(pet_img).flatten()\n",
    "        df.append([image, label])"
   ]
  },
  {
   "cell_type": "code",
   "execution_count": 31,
   "id": "d647c371",
   "metadata": {},
   "outputs": [
    {
     "name": "stdout",
     "output_type": "stream",
     "text": [
      "400\n"
     ]
    }
   ],
   "source": [
    "print(len(df))"
   ]
  },
  {
   "cell_type": "code",
   "execution_count": 32,
   "id": "70ce8f63",
   "metadata": {},
   "outputs": [],
   "source": [
    "import random\n",
    "random.shuffle(df)\n",
    "features= []\n",
    "labels= []"
   ]
  },
  {
   "cell_type": "code",
   "execution_count": 33,
   "id": "fe0cd2b1",
   "metadata": {},
   "outputs": [],
   "source": [
    "for feature, label in df:\n",
    "    features.append(feature)\n",
    "    labels.append(label)"
   ]
  },
  {
   "cell_type": "code",
   "execution_count": 34,
   "id": "dcdd9205",
   "metadata": {},
   "outputs": [],
   "source": [
    "from sklearn.model_selection import train_test_split\n",
    "xtrain, xtest, ytrain, ytest= train_test_split(features, labels, test_size= 0.25)"
   ]
  },
  {
   "cell_type": "markdown",
   "id": "f8251cdd",
   "metadata": {},
   "source": [
    "# svm classification Model"
   ]
  },
  {
   "cell_type": "code",
   "execution_count": 35,
   "id": "32a34e22",
   "metadata": {},
   "outputs": [],
   "source": [
    "from sklearn.svm import SVC\n",
    "model= SVC(C=1, kernel='poly', gamma= 'auto')"
   ]
  },
  {
   "cell_type": "code",
   "execution_count": 36,
   "id": "508dc9ff",
   "metadata": {},
   "outputs": [
    {
     "data": {
      "text/plain": [
       "SVC(C=1, gamma='auto', kernel='poly')"
      ]
     },
     "execution_count": 36,
     "metadata": {},
     "output_type": "execute_result"
    }
   ],
   "source": [
    "model.fit(xtrain, ytrain)"
   ]
  },
  {
   "cell_type": "code",
   "execution_count": 37,
   "id": "920ad68f",
   "metadata": {},
   "outputs": [],
   "source": [
    "prediction2= model.predict(xtest)\n",
    "accuracy2= model.score(xtest, ytest)"
   ]
  },
  {
   "cell_type": "code",
   "execution_count": 38,
   "id": "43f97aa4",
   "metadata": {},
   "outputs": [
    {
     "data": {
      "text/plain": [
       "1"
      ]
     },
     "execution_count": 38,
     "metadata": {},
     "output_type": "execute_result"
    }
   ],
   "source": [
    "ytest[1]"
   ]
  },
  {
   "cell_type": "code",
   "execution_count": 47,
   "id": "c9e71b3f",
   "metadata": {},
   "outputs": [
    {
     "name": "stdout",
     "output_type": "stream",
     "text": [
      "Accuracy: 0.51\n",
      "Prediction is: cats\n"
     ]
    }
   ],
   "source": [
    "print('Accuracy:', accuracy2)\n",
    "print('Prediction is:', categories[prediction2[0]])"
   ]
  },
  {
   "cell_type": "code",
   "execution_count": 40,
   "id": "2b0ffad3",
   "metadata": {},
   "outputs": [
    {
     "data": {
      "text/html": [
       "<div>\n",
       "<style scoped>\n",
       "    .dataframe tbody tr th:only-of-type {\n",
       "        vertical-align: middle;\n",
       "    }\n",
       "\n",
       "    .dataframe tbody tr th {\n",
       "        vertical-align: top;\n",
       "    }\n",
       "\n",
       "    .dataframe thead th {\n",
       "        text-align: right;\n",
       "    }\n",
       "</style>\n",
       "<table border=\"1\" class=\"dataframe\">\n",
       "  <thead>\n",
       "    <tr style=\"text-align: right;\">\n",
       "      <th></th>\n",
       "      <th>Method</th>\n",
       "      <th>accuracy</th>\n",
       "    </tr>\n",
       "  </thead>\n",
       "  <tbody>\n",
       "    <tr>\n",
       "      <th>0</th>\n",
       "      <td>SVM</td>\n",
       "      <td>0.51</td>\n",
       "    </tr>\n",
       "    <tr>\n",
       "      <th>0</th>\n",
       "      <td>Random Forest</td>\n",
       "      <td>0.52</td>\n",
       "    </tr>\n",
       "    <tr>\n",
       "      <th>0</th>\n",
       "      <td>SVM_flip_aug_data</td>\n",
       "      <td>0.51</td>\n",
       "    </tr>\n",
       "  </tbody>\n",
       "</table>\n",
       "</div>"
      ],
      "text/plain": [
       "              Method  accuracy\n",
       "0                SVM      0.51\n",
       "0      Random Forest      0.52\n",
       "0  SVM_flip_aug_data      0.51"
      ]
     },
     "execution_count": 40,
     "metadata": {},
     "output_type": "execute_result"
    }
   ],
   "source": [
    "tempResultsDf = pd.DataFrame({'Method' :['SVM_flip_aug_data'],'accuracy':accuracy2})\n",
    "resultsDf = pd.concat([resultsDf, tempResultsDf])\n",
    "resultsDf = resultsDf[['Method','accuracy']]\n",
    "resultsDf"
   ]
  },
  {
   "cell_type": "markdown",
   "id": "fc86e4dc",
   "metadata": {},
   "source": [
    "# Random Forest Classification Model"
   ]
  },
  {
   "cell_type": "code",
   "execution_count": 41,
   "id": "486901fd",
   "metadata": {},
   "outputs": [
    {
     "data": {
      "text/plain": [
       "RandomForestClassifier(max_features=12, n_estimators=50, random_state=1)"
      ]
     },
     "execution_count": 41,
     "metadata": {},
     "output_type": "execute_result"
    }
   ],
   "source": [
    "rfmodel = RandomForestClassifier(n_estimators = 50, random_state = 1, max_features = 12)\n",
    "rfmodel.fit(xtrain, ytrain)"
   ]
  },
  {
   "cell_type": "code",
   "execution_count": 42,
   "id": "cf939c11",
   "metadata": {},
   "outputs": [],
   "source": [
    "prediction3= model.predict(xtest)\n",
    "accuracy3= model.score(xtest, ytest)"
   ]
  },
  {
   "cell_type": "code",
   "execution_count": 44,
   "id": "9c7a820a",
   "metadata": {},
   "outputs": [
    {
     "name": "stdout",
     "output_type": "stream",
     "text": [
      "Accuracy: 0.51\n",
      "Prediction is: cats\n"
     ]
    }
   ],
   "source": [
    "print('Accuracy:', accuracy3)\n",
    "print('Prediction is:', categories[prediction3[1]])"
   ]
  },
  {
   "cell_type": "markdown",
   "id": "44fe4304",
   "metadata": {},
   "source": [
    "# Display the performance of the Algorithms. Prepare a comparison chart."
   ]
  },
  {
   "cell_type": "code",
   "execution_count": 48,
   "id": "c98f9cf2",
   "metadata": {},
   "outputs": [
    {
     "data": {
      "text/html": [
       "<div>\n",
       "<style scoped>\n",
       "    .dataframe tbody tr th:only-of-type {\n",
       "        vertical-align: middle;\n",
       "    }\n",
       "\n",
       "    .dataframe tbody tr th {\n",
       "        vertical-align: top;\n",
       "    }\n",
       "\n",
       "    .dataframe thead th {\n",
       "        text-align: right;\n",
       "    }\n",
       "</style>\n",
       "<table border=\"1\" class=\"dataframe\">\n",
       "  <thead>\n",
       "    <tr style=\"text-align: right;\">\n",
       "      <th></th>\n",
       "      <th>Method</th>\n",
       "      <th>accuracy</th>\n",
       "    </tr>\n",
       "  </thead>\n",
       "  <tbody>\n",
       "    <tr>\n",
       "      <th>0</th>\n",
       "      <td>SVM</td>\n",
       "      <td>0.51</td>\n",
       "    </tr>\n",
       "    <tr>\n",
       "      <th>0</th>\n",
       "      <td>Random Forest</td>\n",
       "      <td>0.52</td>\n",
       "    </tr>\n",
       "    <tr>\n",
       "      <th>0</th>\n",
       "      <td>SVM_flip_aug_data</td>\n",
       "      <td>0.51</td>\n",
       "    </tr>\n",
       "    <tr>\n",
       "      <th>0</th>\n",
       "      <td>Random Forest_flip_aug_data</td>\n",
       "      <td>0.51</td>\n",
       "    </tr>\n",
       "  </tbody>\n",
       "</table>\n",
       "</div>"
      ],
      "text/plain": [
       "                        Method  accuracy\n",
       "0                          SVM      0.51\n",
       "0                Random Forest      0.52\n",
       "0            SVM_flip_aug_data      0.51\n",
       "0  Random Forest_flip_aug_data      0.51"
      ]
     },
     "execution_count": 48,
     "metadata": {},
     "output_type": "execute_result"
    }
   ],
   "source": [
    "tempResultsDf = pd.DataFrame({'Method' :['Random Forest_flip_aug_data'],'accuracy':accuracy3})\n",
    "resultsDf = pd.concat([resultsDf, tempResultsDf])\n",
    "resultsDf = resultsDf[['Method','accuracy']]\n",
    "resultsDf"
   ]
  },
  {
   "cell_type": "markdown",
   "id": "8151b74f",
   "metadata": {},
   "source": [
    "Here I have used binary classification dataset (cats and dogs). I have trained two classification model with original dataset as well\n",
    "as augmented(flip_technique) dataset. The algorithms are Support Vector Machine(SVM) and Random Forest Classifier. After doing all\n",
    "the steps which i analysed that the accuracy of the model is not so good.To improve the model accuracy we can increase the dataset and\n",
    "we can also do hyper parameter tuning.Therefore Random Forest is the good model with original dataset."
   ]
  },
  {
   "cell_type": "code",
   "execution_count": null,
   "id": "f78f1bf2",
   "metadata": {},
   "outputs": [],
   "source": []
  }
 ],
 "metadata": {
  "kernelspec": {
   "display_name": "Python 3",
   "language": "python",
   "name": "python3"
  },
  "language_info": {
   "codemirror_mode": {
    "name": "ipython",
    "version": 3
   },
   "file_extension": ".py",
   "mimetype": "text/x-python",
   "name": "python",
   "nbconvert_exporter": "python",
   "pygments_lexer": "ipython3",
   "version": "3.8.8"
  }
 },
 "nbformat": 4,
 "nbformat_minor": 5
}
